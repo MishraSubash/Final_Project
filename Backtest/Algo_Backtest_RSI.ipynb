{
 "cells": [
  {
   "cell_type": "code",
   "execution_count": 19,
   "metadata": {},
   "outputs": [
    {
     "name": "stdout",
     "output_type": "stream",
     "text": [
      "Final Portfolio Value: $11755.2851701423\n",
      "P/L: $1755.2851701423006\n"
     ]
    },
    {
     "data": {
      "text/plain": [
       "[[<Figure size 640x480 with 5 Axes>]]"
      ]
     },
     "execution_count": 19,
     "metadata": {},
     "output_type": "execute_result"
    }
   ],
   "source": [
    "import backtrader as bt\n",
    "from datetime import datetime\n",
    "\n",
    "class firstStrategy(bt.Strategy):\n",
    "\n",
    "    def __init__(self):\n",
    "        self.rsi = bt.indicators.RSI_SMA(self.data.close, period=21)\n",
    "\n",
    "    def next(self):\n",
    "        if not self.position:\n",
    "            if self.rsi < 30:\n",
    "                self.buy(size=100)\n",
    "        else:\n",
    "            if self.rsi > 70:\n",
    "                self.sell(size=100)\n",
    "\n",
    "\n",
    "#Variable for our starting cash\n",
    "startcash = 10000\n",
    "\n",
    "#Create an instance of cerebro\n",
    "cerebro = bt.Cerebro()\n",
    "\n",
    "#Add our strategy\n",
    "cerebro.addstrategy(firstStrategy)\n",
    "\n",
    "#Get Apple data from Yahoo Finance.\n",
    "data = bt.feeds.Quandl(\n",
    "    dataname='AAPL',\n",
    "    fromdate = datetime(2019,1,1),\n",
    "    todate = datetime(2020,1,1),\n",
    "    buffered= True\n",
    "    )\n",
    "\n",
    "#Add the data to Cerebro\n",
    "cerebro.adddata(data)\n",
    "\n",
    "# Set our desired cash start\n",
    "cerebro.broker.setcash(startcash)\n",
    "\n",
    "# Run over everything\n",
    "cerebro.run()\n",
    "\n",
    "#Get final portfolio Value\n",
    "portvalue = cerebro.broker.getvalue()\n",
    "pnl = portvalue - startcash\n",
    "\n",
    "#Print out the final result\n",
    "print('Final Portfolio Value: ${}'.format(portvalue))\n",
    "print('P/L: ${}'.format(pnl))\n",
    "\n",
    "#Finally plot the end results\n",
    "cerebro.plot(style='candlestick')\n",
    "\n",
    "            "
   ]
  },
  {
   "cell_type": "code",
   "execution_count": null,
   "metadata": {},
   "outputs": [],
   "source": []
  },
  {
   "cell_type": "code",
   "execution_count": null,
   "metadata": {},
   "outputs": [],
   "source": []
  }
 ],
 "metadata": {
  "kernelspec": {
   "display_name": "Python 3",
   "language": "python",
   "name": "python3"
  },
  "language_info": {
   "codemirror_mode": {
    "name": "ipython",
    "version": 3
   },
   "file_extension": ".py",
   "mimetype": "text/x-python",
   "name": "python",
   "nbconvert_exporter": "python",
   "pygments_lexer": "ipython3",
   "version": "3.7.6"
  }
 },
 "nbformat": 4,
 "nbformat_minor": 4
}
